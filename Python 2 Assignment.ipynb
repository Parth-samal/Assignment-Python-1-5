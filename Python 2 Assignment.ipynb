{
 "cells": [
  {
   "cell_type": "code",
   "execution_count": 1,
   "metadata": {},
   "outputs": [
    {
     "name": "stdout",
     "output_type": "stream",
     "text": [
      "Please enter the numbers:1,3,4,5\n"
     ]
    },
    {
     "data": {
      "text/plain": [
       "['1', '3', '4', '5']"
      ]
     },
     "execution_count": 1,
     "metadata": {},
     "output_type": "execute_result"
    }
   ],
   "source": [
    "'''Q.1.Write a program which accepts a sequence of comma-separated numbers from console and\n",
    "#generate a list.'''\n",
    "\n",
    "my_list=input('Please enter the numbers:')\n",
    "list(my_list.split(','))"
   ]
  },
  {
   "cell_type": "code",
   "execution_count": 2,
   "metadata": {},
   "outputs": [
    {
     "name": "stdout",
     "output_type": "stream",
     "text": [
      "\n",
      "\n",
      "* \n",
      "\n",
      "* * \n",
      "\n",
      "* * * \n",
      "\n",
      "* * * * \n",
      "\n",
      "* * * * * \n",
      "\n",
      "* * * * \n",
      "\n",
      "* * * \n",
      "\n",
      "* * \n",
      "\n",
      "* \n",
      "\n"
     ]
    }
   ],
   "source": [
    "'''Q.2.Create the below pattern using nested for loop in Python.'''\n",
    "\n",
    "n=5;\n",
    "for i in range(n):\n",
    "    for m in range(i):\n",
    "        print ('* ',end='')\n",
    "    print('\\n')\n",
    "for i in range(n,0,-1):\n",
    "    for m in range(i):\n",
    "        print('* ',end='')\n",
    "    print('\\n')"
   ]
  },
  {
   "cell_type": "code",
   "execution_count": 3,
   "metadata": {},
   "outputs": [
    {
     "name": "stdout",
     "output_type": "stream",
     "text": [
      "Please enter a sample word: DataScience\n",
      "ecneicSataD\n"
     ]
    }
   ],
   "source": [
    "'''Q.3.Write a Python program to reverse a word after accepting the input from the user.'''\n",
    "\n",
    "m=input('Please enter a sample word: ')\n",
    "print(''.join(m[::-1]))"
   ]
  },
  {
   "cell_type": "code",
   "execution_count": 4,
   "metadata": {},
   "outputs": [
    {
     "name": "stdout",
     "output_type": "stream",
     "text": [
      "WE, THE PEOPLE OF INDIA,\n",
      "\t having solemnly resolved to constitute India into a SOVEREIGN, !\n",
      "\t\t SOCIALIST, SECULAR, DEMOCRATIC \n",
      "\t\t\tREPUBLIC and to secure to all its citizens\n"
     ]
    }
   ],
   "source": [
    "'''Q.4.Write a Python Program to print the given string in the format specified in the\n",
    "sample output.\n",
    "WE, THE PEOPLE OF INDIA, having solemnly resolved to constitute India into a SOVEREIGN,\n",
    "SOCIALIST, SECULAR, DEMOCRATIC REPUBLIC and to secure to all its citizens\n",
    "Sample Output:\n",
    "WE, THE PEOPLE OF INDIA,\n",
    "   having solemnly resolved to constitute India into a SOVEREIGN, !\n",
    "      SOCIALIST, SECULAR, DEMOCRATIC\n",
    "         REPUBLIC and to secure to all its citizens'''\n",
    "\n",
    "print(\"WE, THE PEOPLE OF INDIA,\\n\\t having solemnly resolved to constitute India into a SOVEREIGN,\"+\" \"+\"!\"+\n",
    "\"\\n\\t\\t SOCIALIST, SECULAR, DEMOCRATIC \\n\\t\\t\\tREPUBLIC and to secure to all its citizens\")"
   ]
  },
  {
   "cell_type": "code",
   "execution_count": null,
   "metadata": {},
   "outputs": [],
   "source": []
  }
 ],
 "metadata": {
  "kernelspec": {
   "display_name": "Python 3",
   "language": "python",
   "name": "python3"
  },
  "language_info": {
   "codemirror_mode": {
    "name": "ipython",
    "version": 3
   },
   "file_extension": ".py",
   "mimetype": "text/x-python",
   "name": "python",
   "nbconvert_exporter": "python",
   "pygments_lexer": "ipython3",
   "version": "3.7.1"
  }
 },
 "nbformat": 4,
 "nbformat_minor": 2
}
